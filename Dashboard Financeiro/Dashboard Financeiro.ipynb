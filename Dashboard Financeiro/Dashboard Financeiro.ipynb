{
 "cells": [
  {
   "cell_type": "markdown",
   "id": "3de9230b",
   "metadata": {},
   "source": [
    "# Fonte de dados"
   ]
  },
  {
   "cell_type": "markdown",
   "id": "3fdd0154",
   "metadata": {},
   "source": [
    "As fontes dos dados do dashboard Financeiro foram:\n",
    "\n",
    "\n",
    "a. CadastroPlanoContas.xlsx\n",
    "\n",
    "b. Pagamentos.xlsx\n",
    "\n",
    "c. Recebimentos.xlsx"
   ]
  },
  {
   "cell_type": "markdown",
   "id": "475268c0",
   "metadata": {},
   "source": [
    "# Modelagem e Relacionamentos"
   ]
  },
  {
   "cell_type": "code",
   "execution_count": null,
   "id": "ed66801e",
   "metadata": {},
   "outputs": [],
   "source": []
  },
  {
   "cell_type": "markdown",
   "id": "982132d5",
   "metadata": {},
   "source": [
    "# Medidas DAX"
   ]
  },
  {
   "cell_type": "markdown",
   "id": "68991190",
   "metadata": {},
   "source": [
    "Receita = SUM(fRecebimentos[valor_recebido])\n",
    "\n",
    "ReceitaAnoAnterior = CALCULATE([$ Receita], SAMEPERIODLASTYEAR(‘dCalendario’[data]))\n",
    "\n",
    "Custos = \n",
    "CALCULATE(\n",
    "    SUM(fPagamentos[valor_pagamento]),\n",
    "    dPlanoContas[id] IN {21, 22}\n",
    ")\n",
    "\n",
    "Despesas = \n",
    "CALCULATE(\n",
    "    SUM(fPagamentos[valor_pagamento]),\n",
    "    dPlanoContas[id] IN {31, 32, 33}\n",
    ")\n",
    "\n",
    "Saida = [Custos] + [Despesas]\n",
    "\n",
    "Lucro = [Receita] - [Custos] -  Despesas]\n",
    "\n",
    "% Lucro = DIVIDE([Lucro], [Receita])\n",
    "\n",
    "MargemBruta = [Receita] - [Custos]"
   ]
  },
  {
   "cell_type": "code",
   "execution_count": null,
   "id": "fadb91e9",
   "metadata": {},
   "outputs": [],
   "source": []
  }
 ],
 "metadata": {
  "kernelspec": {
   "display_name": "Python 3",
   "language": "python",
   "name": "python3"
  },
  "language_info": {
   "codemirror_mode": {
    "name": "ipython",
    "version": 3
   },
   "file_extension": ".py",
   "mimetype": "text/x-python",
   "name": "python",
   "nbconvert_exporter": "python",
   "pygments_lexer": "ipython3",
   "version": "3.8.8"
  }
 },
 "nbformat": 4,
 "nbformat_minor": 5
}
